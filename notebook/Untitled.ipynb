{
 "cells": [
  {
   "cell_type": "code",
   "execution_count": 3,
   "metadata": {},
   "outputs": [
    {
     "name": "stdout",
     "output_type": "stream",
     "text": [
      "URI GET Response\n"
     ]
    }
   ],
   "source": [
    "import requests \n",
    "  \n",
    "r = requests.get('http://192.168.1.150/req', headers={'host': '192.168.1.150'})\n",
    "  \n",
    "# data = r.json()   \n",
    "  \n",
    "# printing the output \n",
    "print(r.text) \n"
   ]
  },
  {
   "cell_type": "code",
   "execution_count": null,
   "metadata": {},
   "outputs": [],
   "source": [
    "import urllib\n",
    "import cv2\n",
    "import numpy as np\n",
    "\n",
    "url='http://192.168.1.150/mjpeg/1'\n",
    "\n",
    "while True:\n",
    "    imgResp=urllib.request.urlopen(url)\n",
    "    imgNp=np.array(bytearray(imgResp.read()),dtype=np.uint8)\n",
    "    img=cv2.imdecode(imgNp,-1)\n",
    "\n",
    "    # all the opencv processing is done here\n",
    "    cv2.imshow('test',img)\n",
    "    if 'q'==cv2.waitKey(1):\n",
    "        exit(0)"
   ]
  },
  {
   "cell_type": "code",
   "execution_count": 2,
   "metadata": {},
   "outputs": [],
   "source": [
    "import cv2\n",
    "import numpy as np\n",
    "\n",
    "\n",
    "while True:\n",
    "    cap = cv2.VideoCapture('http://192.168.1.150/mjpeg/1')\n",
    "    result, frame = cap.read()\n",
    "    cv2.imshow('',frame)\n",
    "    if cv2.waitKey(0):\n",
    "        break"
   ]
  },
  {
   "cell_type": "code",
   "execution_count": null,
   "metadata": {},
   "outputs": [],
   "source": []
  }
 ],
 "metadata": {
  "kernelspec": {
   "display_name": "Python 3",
   "language": "python",
   "name": "python3"
  },
  "language_info": {
   "codemirror_mode": {
    "name": "ipython",
    "version": 3
   },
   "file_extension": ".py",
   "mimetype": "text/x-python",
   "name": "python",
   "nbconvert_exporter": "python",
   "pygments_lexer": "ipython3",
   "version": "3.8.3"
  }
 },
 "nbformat": 4,
 "nbformat_minor": 4
}
